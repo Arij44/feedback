{
  "cells": [
    {
      "cell_type": "markdown",
      "id": "c3afbf8c",
      "metadata": {
        "id": "c3afbf8c"
      },
      "source": [
        "# Labeled Dataset Preprocessing and EDA\n",
        "\n",
        "This notebook performs preprocessing on the manually labeled dataset of social media comments, filters and cleans data, encodes labels, splits into train/validation/test sets, and conducts exploratory data analysis.\n",
        "\n",
        "Input: `manually_labeled.jsonl`\n",
        "Output: `manually_labeled_cleaned.jsonl`\n"
      ]
    },
    {
      "cell_type": "code",
      "execution_count": null,
      "id": "284163c5",
      "metadata": {
        "id": "284163c5"
      },
      "outputs": [],
      "source": [
        "# Install required packages (uncomment if needed)\n",
        "# !pip install scikit-learn matplotlib seaborn"
      ]
    },
    {
      "cell_type": "code",
      "source": [
        "import json\n",
        "import pandas as pd\n",
        "import re\n",
        "from sklearn.model_selection import train_test_split\n",
        "import matplotlib.pyplot as plt\n",
        "import seaborn as sns"
      ],
      "metadata": {
        "id": "MZkgyw1GVssl"
      },
      "id": "MZkgyw1GVssl",
      "execution_count": 1,
      "outputs": []
    },
    {
      "cell_type": "code",
      "source": [
        "from google.colab import drive\n",
        "drive.mount('/content/drive')"
      ],
      "metadata": {
        "colab": {
          "base_uri": "https://localhost:8080/"
        },
        "id": "aomEdbhvVvQ5",
        "outputId": "da815e3a-74f7-45f2-8ad0-84125b93d401"
      },
      "id": "aomEdbhvVvQ5",
      "execution_count": 2,
      "outputs": [
        {
          "output_type": "stream",
          "name": "stdout",
          "text": [
            "Mounted at /content/drive\n"
          ]
        }
      ]
    },
    {
      "cell_type": "code",
      "execution_count": 3,
      "id": "fa7189fa",
      "metadata": {
        "colab": {
          "base_uri": "https://localhost:8080/"
        },
        "id": "fa7189fa",
        "outputId": "7da3981e-2626-4daf-d128-bc0899feb2d6"
      },
      "outputs": [
        {
          "output_type": "stream",
          "name": "stdout",
          "text": [
            "Total raw labeled comments: 3548\n"
          ]
        }
      ],
      "source": [
        "input_path = '/content/drive/MyDrive/manually_labeled.jsonl'\n",
        "data = []\n",
        "with open(input_path, 'r', encoding='utf-8') as f:\n",
        "    for line in f:\n",
        "        entry = json.loads(line)\n",
        "        data.append(entry)\n",
        "\n",
        "print(f\"Total raw labeled comments: {len(data)}\")"
      ]
    },
    {
      "cell_type": "markdown",
      "id": "e84ae2f8",
      "metadata": {
        "id": "e84ae2f8"
      },
      "source": [
        "## Preprocessing Steps\n",
        "\n",
        "1. **Data Cleaning and Filtering:** Remove empty comments, entries with invalid labels, or fewer than three words.\n",
        "2. **Contextual Input Structuring:** Combine post text and comment text.\n",
        "3. **Label Encoding:** Convert labels to integers (Negative→0, Neutral→1, Positive→2).\n",
        "4. **Train–Validation–Test Split:** Stratified split ensuring balanced classes.\n"
      ]
    },
    {
      "cell_type": "code",
      "execution_count": 5,
      "id": "3afe76de",
      "metadata": {
        "colab": {
          "base_uri": "https://localhost:8080/"
        },
        "id": "3afe76de",
        "outputId": "0a0e7b0e-0688-457c-e4f1-5237f03d3566"
      },
      "outputs": [
        {
          "output_type": "stream",
          "name": "stdout",
          "text": [
            "Retained after cleaning: 3457\n"
          ]
        }
      ],
      "source": [
        "# Define cleaning and filtering function\n",
        "def clean_entry(entry):\n",
        "    text = entry.get('comment_text', '').strip()\n",
        "    post_text = entry.get('post_text', '').strip()\n",
        "    label = entry.get('label', '').strip().lower()\n",
        "\n",
        "    # Validate label\n",
        "    if label not in ['negative', 'neutral', 'positive']:\n",
        "        return None\n",
        "\n",
        "    # Remove comments with fewer than 3 words\n",
        "    if len(text.split()) < 3:\n",
        "        return None\n",
        "\n",
        "    # Build contextual input\n",
        "    context = f\"Post: {post_text}\\nComment: {text}\"\n",
        "    entry['context'] = context\n",
        "    entry['word_len'] = len(text.split())\n",
        "    return entry\n",
        "\n",
        "# Apply cleaning\n",
        "cleaned_data = []\n",
        "for entry in data:\n",
        "    cleaned = clean_entry(entry)\n",
        "    if cleaned is not None:\n",
        "        cleaned_data.append(cleaned)\n",
        "\n",
        "print(f\"Retained after cleaning: {len(cleaned_data)}\")"
      ]
    },
    {
      "cell_type": "code",
      "source": [
        "df = pd.DataFrame(cleaned_data)\n",
        "\n",
        "# Label encoding mapping\n",
        "label_mapping = {'negative': 0, 'neutral': 1, 'positive': 2}\n",
        "# Use the correct column name 'label' instead of 'sentiment'\n",
        "df['label_encoded'] = df['label'].map(label_mapping)\n",
        "\n",
        "# Save cleaned dataset to JSONL\n",
        "output_path = '/content/drive/MyDrive/manually_labeled_cleaned2.jsonl'\n",
        "with open(output_path, 'w', encoding='utf-8') as out:\n",
        "    for _, row in df.iterrows():\n",
        "        entry = {\n",
        "            # Include all keys from the example output\n",
        "            'comment_text': row.get('comment_text'),\n",
        "            'platform': row.get('platform'),\n",
        "            'post_id': row.get('post_id'),\n",
        "            'post_title': row.get('post_title'),\n",
        "            'post_url': row.get('post_url'),\n",
        "            'timestamp': row.get('timestamp'),\n",
        "            'character_count': len(row.get('comment_text', '')),\n",
        "            'word_count': len(row.get('comment_text', '').split()),\n",
        "            'label': row.get('label'),\n",
        "        }\n",
        "        out.write(json.dumps(entry) + '\\n')\n",
        "\n",
        "print(f\"Saved cleaned data to {output_path}\")\n"
      ],
      "metadata": {
        "colab": {
          "base_uri": "https://localhost:8080/"
        },
        "id": "Q40J2zAOWd1v",
        "outputId": "21180ca2-c95f-4703-a13b-d9fd788b083a"
      },
      "id": "Q40J2zAOWd1v",
      "execution_count": 6,
      "outputs": [
        {
          "output_type": "stream",
          "name": "stdout",
          "text": [
            "Saved cleaned data to /content/drive/MyDrive/manually_labeled_cleaned2.jsonl\n"
          ]
        }
      ]
    },
    {
      "cell_type": "code",
      "execution_count": 8,
      "id": "66fffd2b",
      "metadata": {
        "colab": {
          "base_uri": "https://localhost:8080/"
        },
        "id": "66fffd2b",
        "outputId": "fd6c90b5-6268-42d1-95fc-35f39f4861e2"
      },
      "outputs": [
        {
          "output_type": "stream",
          "name": "stdout",
          "text": [
            "Training set size: 2419\n",
            "Validation set size: 519\n",
            "Test set size: 519\n"
          ]
        }
      ],
      "source": [
        "train_df, temp_df = train_test_split(\n",
        "    df,\n",
        "    test_size=0.30, # 30% goes to temp (validation+test)\n",
        "    stratify=df['label_encoded'],\n",
        "    random_state=42\n",
        ")\n",
        "val_df, test_df = train_test_split(\n",
        "    temp_df,\n",
        "    test_size=0.50,  # 50% of temp_df makes it 15% of original\n",
        "    stratify=temp_df['label_encoded'],\n",
        "    random_state=42\n",
        ")\n",
        "\n",
        "print(f\"Training set size: {len(train_df)}\")\n",
        "print(f\"Validation set size: {len(val_df)}\")\n",
        "print(f\"Test set size: {len(test_df)}\")\n",
        "\n",
        "# Optionally save splits\n",
        "train_df.to_json('train_labeled.jsonl', orient='records', lines=True)\n",
        "val_df.to_json('val_labeled.jsonl', orient='records', lines=True)\n",
        "test_df.to_json('test_labeled.jsonl', orient='records', lines=True)\n"
      ]
    },
    {
      "cell_type": "markdown",
      "id": "23a0ac6e",
      "metadata": {
        "id": "23a0ac6e"
      },
      "source": [
        "## Exploratory Data Analysis\n",
        "\n",
        "### 1. Sentiment Distribution\n",
        "Pie chart showing the distribution of sentiment classes in the cleaned dataset.\n"
      ]
    },
    {
      "cell_type": "code",
      "source": [
        "sentiment_counts = df['label'].value_counts().reindex(['negative', 'neutral', 'positive'])\n",
        "\n",
        "# Define colors for each label\n",
        "colors = ['#7c4da0', '#d0ade9', '#b54cfc'] # negative, neutral, positive\n",
        "\n",
        "# Plot pie chart with specified colors\n",
        "plt.figure(figsize=(6, 6))\n",
        "plt.pie(\n",
        "    sentiment_counts,\n",
        "    labels=sentiment_counts.index.str.capitalize(),\n",
        "    autopct='%1.1f%%',\n",
        "    startangle=90,\n",
        "    colors=colors # Use the defined colors\n",
        ")\n",
        "plt.title('Sentiment Distribution')\n",
        "plt.axis('equal')\n",
        "plt.show()"
      ],
      "metadata": {
        "colab": {
          "base_uri": "https://localhost:8080/",
          "height": 529
        },
        "id": "BXXNeACGXhFL",
        "outputId": "79b5c6b0-fee0-47d9-95fb-936cfe2497cf"
      },
      "id": "BXXNeACGXhFL",
      "execution_count": 11,
      "outputs": [
        {
          "output_type": "display_data",
          "data": {
            "text/plain": [
              "<Figure size 600x600 with 1 Axes>"
            ],
            "image/png": "[encoded data removed]"
          },
          "metadata": {}
        }
      ]
    },
    {
      "cell_type": "markdown",
      "id": "2a8f2635",
      "metadata": {
        "id": "2a8f2635"
      },
      "source": [
        "### 2. Sentiment Distribution by Platform\n",
        "Bar chart showing the count of each sentiment for each platform."
      ]
    },
    {
      "cell_type": "code",
      "source": [
        "# Set platform as index for plotting\n",
        "platform_sentiment = df.groupby(['platform', 'label']).size().unstack(fill_value=0)\n",
        "\n",
        "# Define the color palette\n",
        "colors = ['#7c4da0', '#d0ade9', '#b54cfc']  # negative, neutral, positive\n",
        "\n",
        "# Plot stacked bar chart\n",
        "platform_sentiment[['negative', 'neutral', 'positive']].plot(\n",
        "    kind='bar',\n",
        "    stacked=True,\n",
        "    figsize=(8, 6),\n",
        "    color=colors\n",
        ")\n",
        "\n",
        "# Customize the plot\n",
        "plt.title('Sentiment Distribution by Platform')\n",
        "plt.xlabel('Platform')\n",
        "plt.ylabel('Count')\n",
        "plt.legend(title='Sentiment')\n",
        "plt.tight_layout()"
      ],
      "metadata": {
        "colab": {
          "base_uri": "https://localhost:8080/",
          "height": 607
        },
        "id": "iCaFyGUaYge9",
        "outputId": "fce5be37-baa4-4010-ee20-8ff7cde53bb0"
      },
      "id": "iCaFyGUaYge9",
      "execution_count": 15,
      "outputs": [
        {
          "output_type": "display_data",
          "data": {
            "text/plain": [
              "<Figure size 800x600 with 1 Axes>"
            ],
            "image/png": "[encoded data removed]"
          },
          "metadata": {}
        }
      ]
    },
    {
      "cell_type": "markdown",
      "id": "f1e5ba52",
      "metadata": {
        "id": "f1e5ba52"
      },
      "source": [
        "### 3. Comment Length Distribution by Sentiment\n",
        "Boxplot showing distribution of comment word lengths for each sentiment category."
      ]
    },
    {
      "cell_type": "code",
      "execution_count": 20,
      "id": "ddf44404",
      "metadata": {
        "colab": {
          "base_uri": "https://localhost:8080/",
          "height": 394
        },
        "id": "ddf44404",
        "outputId": "3008b09f-0607-4122-ad27-4feb2edd8d4d"
      },
      "outputs": [
        {
          "output_type": "stream",
          "name": "stderr",
          "text": [
            "<ipython-input-20-6d25483e21a2>:2: FutureWarning: \n",
            "\n",
            "Passing `palette` without assigning `hue` is deprecated and will be removed in v0.14.0. Assign the `x` variable to `hue` and set `legend=False` for the same effect.\n",
            "\n",
            "  sns.boxplot(x='label', y='word_len', data=df, order=['negative', 'neutral', 'positive'], palette=\"Purples\")\n"
          ]
        },
        {
          "output_type": "display_data",
          "data": {
            "text/plain": [
              "<Figure size 700x300 with 1 Axes>"
            ],
            "image/png": "[encoded data removed]"
          },
          "metadata": {}
        }
      ],
      "source": [
        "plt.figure(figsize=(7, 3))\n",
        "sns.boxplot(x='label', y='word_len', data=df, order=['negative', 'neutral', 'positive'], palette=\"Purples\")\n",
        "plt.title('Comment Length by Sentiment')\n",
        "plt.xlabel('Sentiment')\n",
        "plt.ylabel('Word Count')\n",
        "plt.tight_layout()\n",
        "plt.show()"
      ]
    },
    {
      "cell_type": "markdown",
      "id": "8ff86707",
      "metadata": {
        "id": "8ff86707"
      },
      "source": [
        "### 4. Summary Statistics\n",
        "Basic descriptive statistics for word lengths by sentiment."
      ]
    },
    {
      "cell_type": "code",
      "execution_count": 22,
      "id": "b4fa9f41",
      "metadata": {
        "colab": {
          "base_uri": "https://localhost:8080/",
          "height": 206
        },
        "id": "b4fa9f41",
        "outputId": "35659e0c-6be7-46e2-84fd-64316ed93ebb"
      },
      "outputs": [
        {
          "output_type": "execute_result",
          "data": {
            "text/plain": [
              "         word_len                                                        \\\n",
              "            count       mean         std  min   25%   50%   75%     max   \n",
              "label                                                                     \n",
              "negative   1037.0  59.606557  125.692704  3.0  10.0  21.0  50.0  2201.0   \n",
              "neutral    1368.0  87.764620  166.082017  3.0   9.0  18.0  78.5  1949.0   \n",
              "positive   1052.0  26.565589   52.418778  3.0   7.0  14.0  26.0   703.0   \n",
              "\n",
              "         label_encoded                                     \n",
              "                 count mean  std  min  25%  50%  75%  max  \n",
              "label                                                      \n",
              "negative        1037.0  0.0  0.0  0.0  0.0  0.0  0.0  0.0  \n",
              "neutral         1368.0  1.0  0.0  1.0  1.0  1.0  1.0  1.0  \n",
              "positive        1052.0  2.0  0.0  2.0  2.0  2.0  2.0  2.0  "
            ],
            "text/html": [
              "\n",
              "  <div id=\"df-b49b2584-4f04-4f65-b6f1-2eefe63c4d2a\" class=\"colab-df-container\">\n",
              "    <div>\n",
              "<style scoped>\n",
              "    .dataframe tbody tr th:only-of-type {\n",
              "        vertical-align: middle;\n",
              "    }\n",
              "\n",
              "    .dataframe tbody tr th {\n",
              "        vertical-align: top;\n",
              "    }\n",
              "\n",
              "    .dataframe thead tr th {\n",
              "        text-align: left;\n",
              "    }\n",
              "\n",
              "    .dataframe thead tr:last-of-type th {\n",
              "        text-align: right;\n",
              "    }\n",
              "</style>\n",
              "<table border=\"1\" class=\"dataframe\">\n",
              "  <thead>\n",
              "    <tr>\n",
              "      <th></th>\n",
              "      <th colspan=\"8\" halign=\"left\">word_len</th>\n",
              "      <th colspan=\"8\" halign=\"left\">label_encoded</th>\n",
              "    </tr>\n",
              "    <tr>\n",
              "      <th></th>\n",
              "      <th>count</th>\n",
              "      <th>mean</th>\n",
              "      <th>std</th>\n",
              "      <th>min</th>\n",
              "      <th>25%</th>\n",
              "      <th>50%</th>\n",
              "      <th>75%</th>\n",
              "      <th>max</th>\n",
              "      <th>count</th>\n",
              "      <th>mean</th>\n",
              "      <th>std</th>\n",
              "      <th>min</th>\n",
              "      <th>25%</th>\n",
              "      <th>50%</th>\n",
              "      <th>75%</th>\n",
              "      <th>max</th>\n",
              "    </tr>\n",
              "    <tr>\n",
              "      <th>label</th>\n",
              "      <th></th>\n",
              "      <th></th>\n",
              "      <th></th>\n",
              "      <th></th>\n",
              "      <th></th>\n",
              "      <th></th>\n",
              "      <th></th>\n",
              "      <th></th>\n",
              "      <th></th>\n",
              "      <th></th>\n",
              "      <th></th>\n",
              "      <th></th>\n",
              "      <th></th>\n",
              "      <th></th>\n",
              "      <th></th>\n",
              "      <th></th>\n",
              "    </tr>\n",
              "  </thead>\n",
              "  <tbody>\n",
              "    <tr>\n",
              "      <th>negative</th>\n",
              "      <td>1037.0</td>\n",
              "      <td>59.606557</td>\n",
              "      <td>125.692704</td>\n",
              "      <td>3.0</td>\n",
              "      <td>10.0</td>\n",
              "      <td>21.0</td>\n",
              "      <td>50.0</td>\n",
              "      <td>2201.0</td>\n",
              "      <td>1037.0</td>\n",
              "      <td>0.0</td>\n",
              "      <td>0.0</td>\n",
              "      <td>0.0</td>\n",
              "      <td>0.0</td>\n",
              "      <td>0.0</td>\n",
              "      <td>0.0</td>\n",
              "      <td>0.0</td>\n",
              "    </tr>\n",
              "    <tr>\n",
              "      <th>neutral</th>\n",
              "      <td>1368.0</td>\n",
              "      <td>87.764620</td>\n",
              "      <td>166.082017</td>\n",
              "      <td>3.0</td>\n",
              "      <td>9.0</td>\n",
              "      <td>18.0</td>\n",
              "      <td>78.5</td>\n",
              "      <td>1949.0</td>\n",
              "      <td>1368.0</td>\n",
              "      <td>1.0</td>\n",
              "      <td>0.0</td>\n",
              "      <td>1.0</td>\n",
              "      <td>1.0</td>\n",
              "      <td>1.0</td>\n",
              "      <td>1.0</td>\n",
              "      <td>1.0</td>\n",
              "    </tr>\n",
              "    <tr>\n",
              "      <th>positive</th>\n",
              "      <td>1052.0</td>\n",
              "      <td>26.565589</td>\n",
              "      <td>52.418778</td>\n",
              "      <td>3.0</td>\n",
              "      <td>7.0</td>\n",
              "      <td>14.0</td>\n",
              "      <td>26.0</td>\n",
              "      <td>703.0</td>\n",
              "      <td>1052.0</td>\n",
              "      <td>2.0</td>\n",
              "      <td>0.0</td>\n",
              "      <td>2.0</td>\n",
              "      <td>2.0</td>\n",
              "      <td>2.0</td>\n",
              "      <td>2.0</td>\n",
              "      <td>2.0</td>\n",
              "    </tr>\n",
              "  </tbody>\n",
              "</table>\n",
              "</div>\n",
              "    <div class=\"colab-df-buttons\">\n",
              "\n",
              "  <div class=\"colab-df-container\">\n",
              "    <button class=\"colab-df-convert\" onclick=\"convertToInteractive('df-b49b2584-4f04-4f65-b6f1-2eefe63c4d2a')\"\n",
              "            title=\"Convert this dataframe to an interactive table.\"\n",
              "            style=\"display:none;\">\n",
              "\n",
              "  <svg xmlns=\"http://www.w3.org/2000/svg\" height=\"24px\" viewBox=\"0 -960 960 960\">\n",
              "    <path d=\"M120-120v-720h720v720H120Zm60-500h600v-160H180v160Zm220 220h160v-160H400v160Zm0 220h160v-160H400v160ZM180-400h160v-160H180v160Zm440 0h160v-160H620v160ZM180-180h160v-160H180v160Zm440 0h160v-160H620v160Z\"/>\n",
              "  </svg>\n",
              "    </button>\n",
              "\n",
              "  <style>\n",
              "    .colab-df-container {\n",
              "      display:flex;\n",
              "      gap: 12px;\n",
              "    }\n",
              "\n",
              "    .colab-df-convert {\n",
              "      background-color: #E8F0FE;\n",
              "      border: none;\n",
              "      border-radius: 50%;\n",
              "      cursor: pointer;\n",
              "      display: none;\n",
              "      fill: #1967D2;\n",
              "      height: 32px;\n",
              "      padding: 0 0 0 0;\n",
              "      width: 32px;\n",
              "    }\n",
              "\n",
              "    .colab-df-convert:hover {\n",
              "      background-color: #E2EBFA;\n",
              "      box-shadow: 0px 1px 2px rgba(60, 64, 67, 0.3), 0px 1px 3px 1px rgba(60, 64, 67, 0.15);\n",
              "      fill: #174EA6;\n",
              "    }\n",
              "\n",
              "    .colab-df-buttons div {\n",
              "      margin-bottom: 4px;\n",
              "    }\n",
              "\n",
              "    [theme=dark] .colab-df-convert {\n",
              "      background-color: #3B4455;\n",
              "      fill: #D2E3FC;\n",
              "    }\n",
              "\n",
              "    [theme=dark] .colab-df-convert:hover {\n",
              "      background-color: #434B5C;\n",
              "      box-shadow: 0px 1px 3px 1px rgba(0, 0, 0, 0.15);\n",
              "      filter: drop-shadow(0px 1px 2px rgba(0, 0, 0, 0.3));\n",
              "      fill: #FFFFFF;\n",
              "    }\n",
              "  </style>\n",
              "\n",
              "    <script>\n",
              "      const buttonEl =\n",
              "        document.querySelector('#df-b49b2584-4f04-4f65-b6f1-2eefe63c4d2a button.colab-df-convert');\n",
              "      buttonEl.style.display =\n",
              "        google.colab.kernel.accessAllowed ? 'block' : 'none';\n",
              "\n",
              "      async function convertToInteractive(key) {\n",
              "        const element = document.querySelector('#df-b49b2584-4f04-4f65-b6f1-2eefe63c4d2a');\n",
              "        const dataTable =\n",
              "          await google.colab.kernel.invokeFunction('convertToInteractive',\n",
              "                                                    [key], {});\n",
              "        if (!dataTable) return;\n",
              "\n",
              "        const docLinkHtml = 'Like what you see? Visit the ' +\n",
              "          '<a target=\"_blank\" href=https://colab.research.google.com/notebooks/data_table.ipynb>data table notebook</a>'\n",
              "          + ' to learn more about interactive tables.';\n",
              "        element.innerHTML = '';\n",
              "        dataTable['output_type'] = 'display_data';\n",
              "        await google.colab.output.renderOutput(dataTable, element);\n",
              "        const docLink = document.createElement('div');\n",
              "        docLink.innerHTML = docLinkHtml;\n",
              "        element.appendChild(docLink);\n",
              "      }\n",
              "    </script>\n",
              "  </div>\n",
              "\n",
              "\n",
              "    <div id=\"df-7c54b5c7-dca3-43d8-9132-899a2ec9fc10\">\n",
              "      <button class=\"colab-df-quickchart\" onclick=\"quickchart('df-7c54b5c7-dca3-43d8-9132-899a2ec9fc10')\"\n",
              "                title=\"Suggest charts\"\n",
              "                style=\"display:none;\">\n",
              "\n",
              "<svg xmlns=\"http://www.w3.org/2000/svg\" height=\"24px\"viewBox=\"0 0 24 24\"\n",
              "     width=\"24px\">\n",
              "    <g>\n",
              "        <path d=\"M19 3H5c-1.1 0-2 .9-2 2v14c0 1.1.9 2 2 2h14c1.1 0 2-.9 2-2V5c0-1.1-.9-2-2-2zM9 17H7v-7h2v7zm4 0h-2V7h2v10zm4 0h-2v-4h2v4z\"/>\n",
              "    </g>\n",
              "</svg>\n",
              "      </button>\n",
              "\n",
              "<style>\n",
              "  .colab-df-quickchart {\n",
              "      --bg-color: #E8F0FE;\n",
              "      --fill-color: #1967D2;\n",
              "      --hover-bg-color: #E2EBFA;\n",
              "      --hover-fill-color: #174EA6;\n",
              "      --disabled-fill-color: #AAA;\n",
              "      --disabled-bg-color: #DDD;\n",
              "  }\n",
              "\n",
              "  [theme=dark] .colab-df-quickchart {\n",
              "      --bg-color: #3B4455;\n",
              "      --fill-color: #D2E3FC;\n",
              "      --hover-bg-color: #434B5C;\n",
              "      --hover-fill-color: #FFFFFF;\n",
              "      --disabled-bg-color: #3B4455;\n",
              "      --disabled-fill-color: #666;\n",
              "  }\n",
              "\n",
              "  .colab-df-quickchart {\n",
              "    background-color: var(--bg-color);\n",
              "    border: none;\n",
              "    border-radius: 50%;\n",
              "    cursor: pointer;\n",
              "    display: none;\n",
              "    fill: var(--fill-color);\n",
              "    height: 32px;\n",
              "    padding: 0;\n",
              "    width: 32px;\n",
              "  }\n",
              "\n",
              "  .colab-df-quickchart:hover {\n",
              "    background-color: var(--hover-bg-color);\n",
              "    box-shadow: 0 1px 2px rgba(60, 64, 67, 0.3), 0 1px 3px 1px rgba(60, 64, 67, 0.15);\n",
              "    fill: var(--button-hover-fill-color);\n",
              "  }\n",
              "\n",
              "  .colab-df-quickchart-complete:disabled,\n",
              "  .colab-df-quickchart-complete:disabled:hover {\n",
              "    background-color: var(--disabled-bg-color);\n",
              "    fill: var(--disabled-fill-color);\n",
              "    box-shadow: none;\n",
              "  }\n",
              "\n",
              "  .colab-df-spinner {\n",
              "    border: 2px solid var(--fill-color);\n",
              "    border-color: transparent;\n",
              "    border-bottom-color: var(--fill-color);\n",
              "    animation:\n",
              "      spin 1s steps(1) infinite;\n",
              "  }\n",
              "\n",
              "  @keyframes spin {\n",
              "    0% {\n",
              "      border-color: transparent;\n",
              "      border-bottom-color: var(--fill-color);\n",
              "      border-left-color: var(--fill-color);\n",
              "    }\n",
              "    20% {\n",
              "      border-color: transparent;\n",
              "      border-left-color: var(--fill-color);\n",
              "      border-top-color: var(--fill-color);\n",
              "    }\n",
              "    30% {\n",
              "      border-color: transparent;\n",
              "      border-left-color: var(--fill-color);\n",
              "      border-top-color: var(--fill-color);\n",
              "      border-right-color: var(--fill-color);\n",
              "    }\n",
              "    40% {\n",
              "      border-color: transparent;\n",
              "      border-right-color: var(--fill-color);\n",
              "      border-top-color: var(--fill-color);\n",
              "    }\n",
              "    60% {\n",
              "      border-color: transparent;\n",
              "      border-right-color: var(--fill-color);\n",
              "    }\n",
              "    80% {\n",
              "      border-color: transparent;\n",
              "      border-right-color: var(--fill-color);\n",
              "      border-bottom-color: var(--fill-color);\n",
              "    }\n",
              "    90% {\n",
              "      border-color: transparent;\n",
              "      border-bottom-color: var(--fill-color);\n",
              "    }\n",
              "  }\n",
              "</style>\n",
              "\n",
              "      <script>\n",
              "        async function quickchart(key) {\n",
              "          const quickchartButtonEl =\n",
              "            document.querySelector('#' + key + ' button');\n",
              "          quickchartButtonEl.disabled = true;  // To prevent multiple clicks.\n",
              "          quickchartButtonEl.classList.add('colab-df-spinner');\n",
              "          try {\n",
              "            const charts = await google.colab.kernel.invokeFunction(\n",
              "                'suggestCharts', [key], {});\n",
              "          } catch (error) {\n",
              "            console.error('Error during call to suggestCharts:', error);\n",
              "          }\n",
              "          quickchartButtonEl.classList.remove('colab-df-spinner');\n",
              "          quickchartButtonEl.classList.add('colab-df-quickchart-complete');\n",
              "        }\n",
              "        (() => {\n",
              "          let quickchartButtonEl =\n",
              "            document.querySelector('#df-7c54b5c7-dca3-43d8-9132-899a2ec9fc10 button');\n",
              "          quickchartButtonEl.style.display =\n",
              "            google.colab.kernel.accessAllowed ? 'block' : 'none';\n",
              "        })();\n",
              "      </script>\n",
              "    </div>\n",
              "\n",
              "    </div>\n",
              "  </div>\n"
            ],
            "application/vnd.google.colaboratory.intrinsic+json": {
              "type": "dataframe",
              "summary": "{\n  \"name\": \"df[['word_len', 'label_encoded']]\",\n  \"rows\": 3,\n  \"fields\": [\n    {\n      \"column\": [\n        \"label\",\n        \"\"\n      ],\n      \"properties\": {\n        \"dtype\": \"string\",\n        \"num_unique_values\": 3,\n        \"samples\": [\n          \"negative\",\n          \"neutral\",\n          \"positive\"\n        ],\n        \"semantic_type\": \"\",\n        \"description\": \"\"\n      }\n    },\n    {\n      \"column\": [\n        \"word_len\",\n        \"count\"\n      ],\n      \"properties\": {\n        \"dtype\": \"number\",\n        \"std\": 186.92333544352704,\n        \"min\": 1037.0,\n        \"max\": 1368.0,\n        \"num_unique_values\": 3,\n        \"samples\": [\n          1037.0,\n          1368.0,\n          1052.0\n        ],\n        \"semantic_type\": \"\",\n        \"description\": \"\"\n      }\n    },\n    {\n      \"column\": [\n        \"word_len\",\n        \"mean\"\n      ],\n      \"properties\": {\n        \"dtype\": \"number\",\n        \"std\": 30.631964214305835,\n        \"min\": 26.565589353612168,\n        \"max\": 87.76461988304094,\n        \"num_unique_values\": 3,\n        \"samples\": [\n          59.60655737704918,\n          87.76461988304094,\n          26.565589353612168\n        ],\n        \"semantic_type\": \"\",\n        \"description\": \"\"\n      }\n    },\n    {\n      \"column\": [\n        \"word_len\",\n        \"std\"\n      ],\n      \"properties\": {\n        \"dtype\": \"number\",\n        \"std\": 57.6190024374047,\n        \"min\": 52.41877840553554,\n        \"max\": 166.08201719542257,\n        \"num_unique_values\": 3,\n        \"samples\": [\n          125.6927041012931,\n          166.08201719542257,\n          52.41877840553554\n        ],\n        \"semantic_type\": \"\",\n        \"description\": \"\"\n      }\n    },\n    {\n      \"column\": [\n        \"word_len\",\n        \"min\"\n      ],\n      \"properties\": {\n        \"dtype\": \"number\",\n        \"std\": 0.0,\n        \"min\": 3.0,\n        \"max\": 3.0,\n        \"num_unique_values\": 1,\n        \"samples\": [\n          3.0\n        ],\n        \"semantic_type\": \"\",\n        \"description\": \"\"\n      }\n    },\n    {\n      \"column\": [\n        \"word_len\",\n        \"25%\"\n      ],\n      \"properties\": {\n        \"dtype\": \"number\",\n        \"std\": 1.5275252316519468,\n        \"min\": 7.0,\n        \"max\": 10.0,\n        \"num_unique_values\": 3,\n        \"samples\": [\n          10.0\n        ],\n        \"semantic_type\": \"\",\n        \"description\": \"\"\n      }\n    },\n    {\n      \"column\": [\n        \"word_len\",\n        \"50%\"\n      ],\n      \"properties\": {\n        \"dtype\": \"number\",\n        \"std\": 3.5118845842842465,\n        \"min\": 14.0,\n        \"max\": 21.0,\n        \"num_unique_values\": 3,\n        \"samples\": [\n          21.0\n        ],\n        \"semantic_type\": \"\",\n        \"description\": \"\"\n      }\n    },\n    {\n      \"column\": [\n        \"word_len\",\n        \"75%\"\n      ],\n      \"properties\": {\n        \"dtype\": \"number\",\n        \"std\": 26.28212320190285,\n        \"min\": 26.0,\n        \"max\": 78.5,\n        \"num_unique_values\": 3,\n        \"samples\": [\n          50.0\n        ],\n        \"semantic_type\": \"\",\n        \"description\": \"\"\n      }\n    },\n    {\n      \"column\": [\n        \"word_len\",\n        \"max\"\n      ],\n      \"properties\": {\n        \"dtype\": \"number\",\n        \"std\": 802.0831212120931,\n        \"min\": 703.0,\n        \"max\": 2201.0,\n        \"num_unique_values\": 3,\n        \"samples\": [\n          2201.0\n        ],\n        \"semantic_type\": \"\",\n        \"description\": \"\"\n      }\n    },\n    {\n      \"column\": [\n        \"label_encoded\",\n        \"count\"\n      ],\n      \"properties\": {\n        \"dtype\": \"number\",\n        \"std\": 186.92333544352704,\n        \"min\": 1037.0,\n        \"max\": 1368.0,\n        \"num_unique_values\": 3,\n        \"samples\": [\n          1037.0\n        ],\n        \"semantic_type\": \"\",\n        \"description\": \"\"\n      }\n    },\n    {\n      \"column\": [\n        \"label_encoded\",\n        \"mean\"\n      ],\n      \"properties\": {\n        \"dtype\": \"number\",\n        \"std\": 1.0,\n        \"min\": 0.0,\n        \"max\": 2.0,\n        \"num_unique_values\": 3,\n        \"samples\": [\n          0.0\n        ],\n        \"semantic_type\": \"\",\n        \"description\": \"\"\n      }\n    },\n    {\n      \"column\": [\n        \"label_encoded\",\n        \"std\"\n      ],\n      \"properties\": {\n        \"dtype\": \"number\",\n        \"std\": 0.0,\n        \"min\": 0.0,\n        \"max\": 0.0,\n        \"num_unique_values\": 1,\n        \"samples\": [\n          0.0\n        ],\n        \"semantic_type\": \"\",\n        \"description\": \"\"\n      }\n    },\n    {\n      \"column\": [\n        \"label_encoded\",\n        \"min\"\n      ],\n      \"properties\": {\n        \"dtype\": \"number\",\n        \"std\": 1.0,\n        \"min\": 0.0,\n        \"max\": 2.0,\n        \"num_unique_values\": 3,\n        \"samples\": [\n          0.0\n        ],\n        \"semantic_type\": \"\",\n        \"description\": \"\"\n      }\n    },\n    {\n      \"column\": [\n        \"label_encoded\",\n        \"25%\"\n      ],\n      \"properties\": {\n        \"dtype\": \"number\",\n        \"std\": 1.0,\n        \"min\": 0.0,\n        \"max\": 2.0,\n        \"num_unique_values\": 3,\n        \"samples\": [\n          0.0\n        ],\n        \"semantic_type\": \"\",\n        \"description\": \"\"\n      }\n    },\n    {\n      \"column\": [\n        \"label_encoded\",\n        \"50%\"\n      ],\n      \"properties\": {\n        \"dtype\": \"number\",\n        \"std\": 1.0,\n        \"min\": 0.0,\n        \"max\": 2.0,\n        \"num_unique_values\": 3,\n        \"samples\": [\n          0.0\n        ],\n        \"semantic_type\": \"\",\n        \"description\": \"\"\n      }\n    },\n    {\n      \"column\": [\n        \"label_encoded\",\n        \"75%\"\n      ],\n      \"properties\": {\n        \"dtype\": \"number\",\n        \"std\": 1.0,\n        \"min\": 0.0,\n        \"max\": 2.0,\n        \"num_unique_values\": 3,\n        \"samples\": [\n          0.0\n        ],\n        \"semantic_type\": \"\",\n        \"description\": \"\"\n      }\n    },\n    {\n      \"column\": [\n        \"label_encoded\",\n        \"max\"\n      ],\n      \"properties\": {\n        \"dtype\": \"number\",\n        \"std\": 1.0,\n        \"min\": 0.0,\n        \"max\": 2.0,\n        \"num_unique_values\": 3,\n        \"samples\": [\n          0.0\n        ],\n        \"semantic_type\": \"\",\n        \"description\": \"\"\n      }\n    }\n  ]\n}"
            }
          },
          "metadata": {},
          "execution_count": 22
        }
      ],
      "source": [
        "df[['word_len', 'label_encoded']].groupby(df['label']).describe()"
      ]
    }
  ],
  "metadata": {
    "colab": {
      "provenance": []
    },
    "language_info": {
      "name": "python"
    },
    "kernelspec": {
      "name": "python3",
      "display_name": "Python 3"
    }
  },
  "nbformat": 4,
  "nbformat_minor": 5
}