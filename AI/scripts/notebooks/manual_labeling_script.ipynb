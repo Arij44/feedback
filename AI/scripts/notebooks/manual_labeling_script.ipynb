{
  "nbformat": 4,
  "nbformat_minor": 0,
  "metadata": {
    "colab": {
      "provenance": []
    },
    "kernelspec": {
      "name": "python3",
      "display_name": "Python 3"
    },
    "language_info": {
      "name": "python"
    }
  },
  "cells": [
    {
      "cell_type": "code",
      "source": [
        "import pandas as pd\n",
        "import os\n",
        "import json\n",
        "from IPython.display import display, clear_output\n",
        "import ipywidgets as widgets\n",
        "from google.colab import drive\n",
        "\n",
        "drive.mount('/content/drive')\n"
      ],
      "metadata": {
        "colab": {
          "base_uri": "https://localhost:8080/"
        },
        "id": "p4ML1gYVHTRU",
        "outputId": "61dc8d39-b546-4b83-812d-8b26e0d53528"
      },
      "execution_count": null,
      "outputs": [
        {
          "output_type": "stream",
          "name": "stdout",
          "text": [
            "Mounted at /content/drive\n"
          ]
        }
      ]
    },
    {
      "cell_type": "code",
      "source": [
        "# === CONFIG ====\n",
        "LABEL_TARGET = 1000\n",
        "label_file_path = '/content/drive/MyDrive/filtered_comments.csv'\n",
        "comments_path = '/content/drive/MyDrive/manually_labeled.jsonl'\n",
        "\n",
        "# === LOAD DATA ===\n",
        "with open(comments_path, 'r') as f:\n",
        "    data = [json.loads(line) for line in f]\n",
        "all_df = pd.DataFrame(data)"
      ],
      "metadata": {
        "id": "N5ylkVRfInT5"
      },
      "execution_count": 7,
      "outputs": []
    },
    {
      "cell_type": "code",
      "source": [
        "# Create or load labeled sample\n",
        "if os.path.exists(label_file_path):\n",
        "    labeled_sample = pd.read_csv(label_file_path)\n",
        "    labeled_sample['label'] = labeled_sample['label'].astype(str).str.strip().str.lower()\n",
        "    valid_labels = ['positive', 'negative', 'neutral']\n",
        "    labeled_sample.loc[~labeled_sample['label'].isin(valid_labels), 'label'] = ''\n",
        "else:\n",
        "    labeled_sample = all_df.sample(n=LABEL_TARGET, random_state=42).copy()\n",
        "    labeled_sample['label'] = ''\n",
        "    labeled_sample.to_csv(label_file_path, index=False)\n",
        "\n",
        "# === SETUP UNLABELED INDEX ===\n",
        "unlabeled = labeled_sample[labeled_sample['label'] == ''].copy()\n",
        "progress = [i for i in labeled_sample.index if labeled_sample.loc[i, 'label'] == '']\n",
        "\n",
        "current_pos = 0\n"
      ],
      "metadata": {
        "id": "lEV9TLu0IsZI"
      },
      "execution_count": 8,
      "outputs": []
    },
    {
      "cell_type": "code",
      "execution_count": 9,
      "metadata": {
        "id": "qnca-I4KGE53"
      },
      "outputs": [],
      "source": [
        "# === UI FUNCTIONS ===\n",
        "\n",
        "def save_progress():\n",
        "    labeled_sample.to_csv(label_file_path, index=False)\n",
        "\n",
        "def render():\n",
        "    global current_pos\n",
        "    clear_output()\n",
        "\n",
        "    if current_pos < 0:\n",
        "        current_pos = 0\n",
        "    if current_pos >= len(progress):\n",
        "        print(\"🎉 All comments labeled!\")\n",
        "        return\n",
        "\n",
        "    row_idx = progress[current_pos]\n",
        "    comment = labeled_sample.loc[row_idx, 'comment_text']\n",
        "    print(f\"📝 Comment {current_pos + 1} of {len(progress)}:\\n\\n{comment}\\n\\nChoose label:\")\n",
        "\n",
        "    # Buttons\n",
        "    pos_btn = widgets.Button(description='👍 Positive', button_style='success')\n",
        "    neu_btn = widgets.Button(description='😐 Neutral', button_style='warning')\n",
        "    neg_btn = widgets.Button(description='👎 Negative', button_style='danger')\n",
        "    skip_btn = widgets.Button(description='⏭️ Skip', button_style='')\n",
        "    back_btn = widgets.Button(description='⬅️ Back', button_style='info')\n",
        "\n",
        "    def label_and_next(label):\n",
        "        global current_pos\n",
        "        labeled_sample.loc[row_idx, 'label'] = label\n",
        "        save_progress()\n",
        "        current_pos += 1\n",
        "        render()\n",
        "\n",
        "    def skip():\n",
        "        global current_pos\n",
        "        current_pos += 1\n",
        "        render()\n",
        "\n",
        "    def go_back():\n",
        "        global current_pos\n",
        "        current_pos = max(0, current_pos - 1)\n",
        "        render()\n",
        "\n",
        "    pos_btn.on_click(lambda b: label_and_next('positive'))\n",
        "    neu_btn.on_click(lambda b: label_and_next('neutral'))\n",
        "    neg_btn.on_click(lambda b: label_and_next('negative'))\n",
        "    skip_btn.on_click(lambda b: skip())\n",
        "    back_btn.on_click(lambda b: go_back())\n",
        "\n",
        "    display(widgets.HBox([pos_btn, neu_btn, neg_btn]))\n",
        "    display(widgets.HBox([back_btn, skip_btn]))\n",
        "\n"
      ]
    },
    {
      "cell_type": "code",
      "source": [
        "# === START ===\n",
        "print(f\"🔄 Resuming labeling at comment {current_pos + 1} of {len(progress)}\")\n",
        "render()\n"
      ],
      "metadata": {
        "colab": {
          "base_uri": "https://localhost:8080/"
        },
        "id": "0vPBPZCJIxmu",
        "outputId": "edb90dc3-2f94-40c2-c5d4-7c9d07863cbb"
      },
      "execution_count": 10,
      "outputs": [
        {
          "output_type": "stream",
          "name": "stdout",
          "text": [
            "🎉 All comments labeled!\n"
          ]
        }
      ]
    }
  ]
}