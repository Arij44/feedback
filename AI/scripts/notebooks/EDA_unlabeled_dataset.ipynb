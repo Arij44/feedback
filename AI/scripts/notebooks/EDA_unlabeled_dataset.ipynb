{
  "cells": [
    {
      "cell_type": "code",
      "execution_count": 1,
      "id": "87becdd8",
      "metadata": {
        "colab": {
          "base_uri": "https://localhost:8080/"
        },
        "id": "87becdd8",
        "outputId": "4e3089d2-59c9-4181-c945-54d0fe731061"
      },
      "outputs": [
        {
          "name": "stdout",
          "output_type": "stream",
          "text": [
            "Collecting langdetect\n",
            "  Downloading langdetect-1.0.9.tar.gz (981 kB)\n",
            "\u001b[2K     \u001b[90m━━━━━━━━━━━━━━━━━━━━━━━━━━━━━━━━━━━━━━\u001b[0m \u001b[32m981.5/981.5 kB\u001b[0m \u001b[31m13.8 MB/s\u001b[0m eta \u001b[36m0:00:00\u001b[0m\n",
            "\u001b[?25h  Preparing metadata (setup.py) ... \u001b[?25l\u001b[?25hdone\n",
            "Requirement already satisfied: six in /usr/local/lib/python3.11/dist-packages (from langdetect) (1.17.0)\n",
            "Building wheels for collected packages: langdetect\n",
            "  Building wheel for langdetect (setup.py) ... \u001b[?25l\u001b[?25hdone\n",
            "  Created wheel for langdetect: filename=langdetect-1.0.9-py3-none-any.whl size=993223 sha256=e7b74745f8a8de867aac031594edee3c602dc2b3b351c16ff28ca0a857f34cf6\n",
            "  Stored in directory: /root/.cache/pip/wheels/0a/f2/b2/e5ca405801e05eb7c8ed5b3b4bcf1fcabcd6272c167640072e\n",
            "Successfully built langdetect\n",
            "Installing collected packages: langdetect\n",
            "Successfully installed langdetect-1.0.9\n"
          ]
        }
      ],
      "source": [
        "!pip install langdetect"
      ]
    },
    {
      "cell_type": "code",
      "execution_count": 2,
      "id": "5mwYTUa0M0Rs",
      "metadata": {
        "colab": {
          "base_uri": "https://localhost:8080/"
        },
        "id": "5mwYTUa0M0Rs",
        "outputId": "ecfa6844-5cd8-4f1b-8d64-024e331efd98"
      },
      "outputs": [
        {
          "name": "stdout",
          "output_type": "stream",
          "text": [
            "Mounted at /content/drive\n"
          ]
        }
      ],
      "source": [
        "from google.colab import drive\n",
        "drive.mount('/content/drive')"
      ]
    },
    {
      "cell_type": "code",
      "execution_count": 3,
      "id": "OcK-2njDM9pk",
      "metadata": {
        "id": "OcK-2njDM9pk"
      },
      "outputs": [],
      "source": [
        "import json\n",
        "import re\n",
        "from langdetect import detect, DetectorFactory\n",
        "import pandas as pd\n",
        "import matplotlib.pyplot as plt\n",
        "import seaborn as sns"
      ]
    },
    {
      "cell_type": "code",
      "execution_count": null,
      "id": "de3c7372",
      "metadata": {
        "colab": {
          "base_uri": "https://localhost:8080/"
        },
        "id": "de3c7372",
        "outputId": "aff5ab01-eda8-4bcd-dea0-c9de7bc1698f"
      },
      "outputs": [
        {
          "name": "stdout",
          "output_type": "stream",
          "text": [
            "Total raw comments: 4220\n"
          ]
        }
      ],
      "source": [
        "DetectorFactory.seed = 0\n",
        "\n",
        "# Load unlabeled dataset\n",
        "raw_input_path = '/content/drive/MyDrive/comments_unlabeled.jsonl'\n",
        "data = []\n",
        "with open(raw_input_path, 'r', encoding='utf-8') as f:\n",
        "    for line in f:\n",
        "        entry = json.loads(line)\n",
        "        data.append(entry)\n",
        "\n",
        "print(f\"Total raw comments: {len(data)}\")"
      ]
    },
    {
      "cell_type": "markdown",
      "id": "a93086b9",
      "metadata": {
        "id": "a93086b9"
      },
      "source": [
        "## Preprocessing Steps:\n",
        "\n",
        "1. **Filtering Non-Text Content:** Remove entries with empty or whitespace-only `comment_text`.\n",
        "2. **Basic Text Cleaning:** Normalize whitespace, remove HTML/Markdown artifacts and newlines.\n",
        "3. **Filter English Comments:** Use `langdetect` to keep only comments detected as English.\n",
        "4. **Compute Word and Character Lengths:** For EDA.\n",
        "5. **Save Filtered Output:** Write to `filtered_comments.jsonl`."
      ]
    },
    {
      "cell_type": "code",
      "execution_count": 5,
      "id": "d30d33ca",
      "metadata": {
        "colab": {
          "base_uri": "https://localhost:8080/"
        },
        "id": "d30d33ca",
        "outputId": "7d5c5878-2507-4096-8862-6a2de739f2c8"
      },
      "outputs": [
        {
          "name": "stdout",
          "output_type": "stream",
          "text": [
            "Filtered English comments: 3711\n"
          ]
        }
      ],
      "source": [
        "# Preprocessing function\n",
        "def clean_text(text):\n",
        "    # Remove HTML tags\n",
        "    text = re.sub(r'<.*?>', '', text)\n",
        "    # Replace newlines with space\n",
        "    text = text.replace('\\n', ' ').strip()\n",
        "    # Collapse multiple spaces\n",
        "    text = re.sub(r'\\s+', ' ', text)\n",
        "    return text\n",
        "\n",
        "filtered_data = []\n",
        "for entry in data:\n",
        "    text = entry.get('comment_text', '').strip()\n",
        "    # Filter out empty or non-text comments\n",
        "    if not text:\n",
        "        continue\n",
        "    # Clean text\n",
        "    cleaned = clean_text(text)\n",
        "    if not cleaned:\n",
        "        continue\n",
        "    # Attempt language detection; skip if detection fails\n",
        "    try:\n",
        "        lang = detect(cleaned)\n",
        "    except:\n",
        "        continue\n",
        "    if lang != 'en':\n",
        "        continue\n",
        "    # Compute lengths\n",
        "    entry['cleaned_text'] = cleaned\n",
        "    entry['word_len'] = len(cleaned.split())\n",
        "    entry['char_len'] = len(cleaned)\n",
        "    filtered_data.append(entry)\n",
        "\n",
        "print(f\"Filtered English comments: {len(filtered_data)}\")"
      ]
    },
    {
      "cell_type": "code",
      "execution_count": null,
      "id": "Yz2Vzuj8NaES",
      "metadata": {
        "colab": {
          "base_uri": "https://localhost:8080/"
        },
        "id": "Yz2Vzuj8NaES",
        "outputId": "a6fc88b0-4cc8-4c5d-9353-6dad89847253"
      },
      "outputs": [
        {
          "name": "stdout",
          "output_type": "stream",
          "text": [
            "Number of NaN comments in 'cleaned_text': 0\n",
            "Number of duplicate comments (based on cleaned text): 333\n"
          ]
        }
      ],
      "source": [
        "df = pd.DataFrame(filtered_data)\n",
        "\n",
        "# Check for NaNs \n",
        "nan_comments = df[df['cleaned_text'].isna()]\n",
        "print(f\"Number of NaN comments in 'cleaned_text': {len(nan_comments)}\")\n",
        "\n",
        "# Check for duplicate \n",
        "duplicate_comments = df[df.duplicated(subset=['cleaned_text'], keep=False)]\n",
        "print(f\"Number of duplicate comments (based on cleaned text): {len(duplicate_comments)}\")\n"
      ]
    },
    {
      "cell_type": "code",
      "execution_count": 16,
      "id": "GxyNn17ONutm",
      "metadata": {
        "colab": {
          "base_uri": "https://localhost:8080/"
        },
        "id": "GxyNn17ONutm",
        "outputId": "c6902e4a-752b-453c-c4ba-41e4190035f1"
      },
      "outputs": [
        {
          "name": "stdout",
          "output_type": "stream",
          "text": [
            "Number of unique comments after dropping duplicates: 3539\n"
          ]
        }
      ],
      "source": [
        "df = df.drop_duplicates(subset=['cleaned_text'])\n",
        "print(f\"Number of unique comments after dropping duplicates: {len(df)}\")\n",
        "\n"
      ]
    },
    {
      "cell_type": "code",
      "execution_count": 17,
      "id": "x9c2cfRkN6_Y",
      "metadata": {
        "colab": {
          "base_uri": "https://localhost:8080/"
        },
        "id": "x9c2cfRkN6_Y",
        "outputId": "e9ca77b1-93a8-479b-b23d-02d8c3f1945c"
      },
      "outputs": [
        {
          "name": "stdout",
          "output_type": "stream",
          "text": [
            "Saved filtered and unique comments to /content/drive/MyDrive/filtered_comments3539.jsonl\n"
          ]
        }
      ],
      "source": [
        "output_path = '/content/drive/MyDrive/filtered_comments3539.jsonl'\n",
        "\n",
        "with open(output_path, 'w', encoding='utf-8') as f:\n",
        "    for entry in df.to_dict('records'):\n",
        "        json.dump(entry, f, ensure_ascii=False)\n",
        "        f.write('\\n')\n",
        "\n",
        "print(f\"Saved filtered and unique comments to {output_path}\")"
      ]
    },
    {
      "cell_type": "markdown",
      "id": "4162bae3",
      "metadata": {
        "id": "4162bae3"
      },
      "source": [
        "## EDA on Filtered Dataset"
      ]
    },
    {
      "cell_type": "code",
      "execution_count": 18,
      "id": "0e593d12",
      "metadata": {
        "colab": {
          "base_uri": "https://localhost:8080/",
          "height": 310
        },
        "id": "0e593d12",
        "outputId": "720f6df5-e4dd-43b6-9e78-9659aef0c4d6"
      },
      "outputs": [
        {
          "name": "stdout",
          "output_type": "stream",
          "text": [
            "Dataset Shape: (3539, 9)\n"
          ]
        },
        {
          "data": {
            "application/vnd.google.colaboratory.intrinsic+json": {
              "repr_error": "No active exception to reraise",
              "type": "dataframe",
              "variable_name": "df"
            },
            "text/html": [
              "\n",
              "  <div id=\"df-877f69db-236a-40c5-9148-e44f6aaea28f\" class=\"colab-df-container\">\n",
              "    <div>\n",
              "<style scoped>\n",
              "    .dataframe tbody tr th:only-of-type {\n",
              "        vertical-align: middle;\n",
              "    }\n",
              "\n",
              "    .dataframe tbody tr th {\n",
              "        vertical-align: top;\n",
              "    }\n",
              "\n",
              "    .dataframe thead th {\n",
              "        text-align: right;\n",
              "    }\n",
              "</style>\n",
              "<table border=\"1\" class=\"dataframe\">\n",
              "  <thead>\n",
              "    <tr style=\"text-align: right;\">\n",
              "      <th></th>\n",
              "      <th>comment_text</th>\n",
              "      <th>platform</th>\n",
              "      <th>post_id</th>\n",
              "      <th>post_title</th>\n",
              "      <th>post_url</th>\n",
              "      <th>timestamp</th>\n",
              "      <th>cleaned_text</th>\n",
              "      <th>word_len</th>\n",
              "      <th>char_len</th>\n",
              "    </tr>\n",
              "  </thead>\n",
              "  <tbody>\n",
              "    <tr>\n",
              "      <th>0</th>\n",
              "      <td>Google and long list of SEO tools. B2B data pl...</td>\n",
              "      <td>reddit</td>\n",
              "      <td>1ivijdi</td>\n",
              "      <td>Any product making good money with web-scraping?</td>\n",
              "      <td>https://www.reddit.com/r/webscraping/comments/...</td>\n",
              "      <td>1740230309.0</td>\n",
              "      <td>Google and long list of SEO tools. B2B data pl...</td>\n",
              "      <td>13</td>\n",
              "      <td>84</td>\n",
              "    </tr>\n",
              "    <tr>\n",
              "      <th>1</th>\n",
              "      <td>chatGPT</td>\n",
              "      <td>reddit</td>\n",
              "      <td>1ivijdi</td>\n",
              "      <td>Any product making good money with web-scraping?</td>\n",
              "      <td>https://www.reddit.com/r/webscraping/comments/...</td>\n",
              "      <td>1740230309.0</td>\n",
              "      <td>chatGPT</td>\n",
              "      <td>1</td>\n",
              "      <td>7</td>\n",
              "    </tr>\n",
              "    <tr>\n",
              "      <th>2</th>\n",
              "      <td>builtwith makes over $14m rev with 1 full-time...</td>\n",
              "      <td>reddit</td>\n",
              "      <td>1ivijdi</td>\n",
              "      <td>Any product making good money with web-scraping?</td>\n",
              "      <td>https://www.reddit.com/r/webscraping/comments/...</td>\n",
              "      <td>1740230309.0</td>\n",
              "      <td>builtwith makes over $14m rev with 1 full-time...</td>\n",
              "      <td>9</td>\n",
              "      <td>55</td>\n",
              "    </tr>\n",
              "    <tr>\n",
              "      <th>3</th>\n",
              "      <td>In general there are a bunch of use cases peop...</td>\n",
              "      <td>reddit</td>\n",
              "      <td>1ivijdi</td>\n",
              "      <td>Any product making good money with web-scraping?</td>\n",
              "      <td>https://www.reddit.com/r/webscraping/comments/...</td>\n",
              "      <td>1740230309.0</td>\n",
              "      <td>In general there are a bunch of use cases peop...</td>\n",
              "      <td>194</td>\n",
              "      <td>1109</td>\n",
              "    </tr>\n",
              "    <tr>\n",
              "      <th>4</th>\n",
              "      <td>Our SaaS tool scans websites for privacy and a...</td>\n",
              "      <td>reddit</td>\n",
              "      <td>1ivijdi</td>\n",
              "      <td>Any product making good money with web-scraping?</td>\n",
              "      <td>https://www.reddit.com/r/webscraping/comments/...</td>\n",
              "      <td>1740230309.0</td>\n",
              "      <td>Our SaaS tool scans websites for privacy and a...</td>\n",
              "      <td>14</td>\n",
              "      <td>92</td>\n",
              "    </tr>\n",
              "  </tbody>\n",
              "</table>\n",
              "</div>\n",
              "    <div class=\"colab-df-buttons\">\n",
              "\n",
              "  <div class=\"colab-df-container\">\n",
              "    <button class=\"colab-df-convert\" onclick=\"convertToInteractive('df-877f69db-236a-40c5-9148-e44f6aaea28f')\"\n",
              "            title=\"Convert this dataframe to an interactive table.\"\n",
              "            style=\"display:none;\">\n",
              "\n",
              "  <svg xmlns=\"http://www.w3.org/2000/svg\" height=\"24px\" viewBox=\"0 -960 960 960\">\n",
              "    <path d=\"M120-120v-720h720v720H120Zm60-500h600v-160H180v160Zm220 220h160v-160H400v160Zm0 220h160v-160H400v160ZM180-400h160v-160H180v160Zm440 0h160v-160H620v160ZM180-180h160v-160H180v160Zm440 0h160v-160H620v160Z\"/>\n",
              "  </svg>\n",
              "    </button>\n",
              "\n",
              "  <style>\n",
              "    .colab-df-container {\n",
              "      display:flex;\n",
              "      gap: 12px;\n",
              "    }\n",
              "\n",
              "    .colab-df-convert {\n",
              "      background-color: #E8F0FE;\n",
              "      border: none;\n",
              "      border-radius: 50%;\n",
              "      cursor: pointer;\n",
              "      display: none;\n",
              "      fill: #1967D2;\n",
              "      height: 32px;\n",
              "      padding: 0 0 0 0;\n",
              "      width: 32px;\n",
              "    }\n",
              "\n",
              "    .colab-df-convert:hover {\n",
              "      background-color: #E2EBFA;\n",
              "      box-shadow: 0px 1px 2px rgba(60, 64, 67, 0.3), 0px 1px 3px 1px rgba(60, 64, 67, 0.15);\n",
              "      fill: #174EA6;\n",
              "    }\n",
              "\n",
              "    .colab-df-buttons div {\n",
              "      margin-bottom: 4px;\n",
              "    }\n",
              "\n",
              "    [theme=dark] .colab-df-convert {\n",
              "      background-color: #3B4455;\n",
              "      fill: #D2E3FC;\n",
              "    }\n",
              "\n",
              "    [theme=dark] .colab-df-convert:hover {\n",
              "      background-color: #434B5C;\n",
              "      box-shadow: 0px 1px 3px 1px rgba(0, 0, 0, 0.15);\n",
              "      filter: drop-shadow(0px 1px 2px rgba(0, 0, 0, 0.3));\n",
              "      fill: #FFFFFF;\n",
              "    }\n",
              "  </style>\n",
              "\n",
              "    <script>\n",
              "      const buttonEl =\n",
              "        document.querySelector('#df-877f69db-236a-40c5-9148-e44f6aaea28f button.colab-df-convert');\n",
              "      buttonEl.style.display =\n",
              "        google.colab.kernel.accessAllowed ? 'block' : 'none';\n",
              "\n",
              "      async function convertToInteractive(key) {\n",
              "        const element = document.querySelector('#df-877f69db-236a-40c5-9148-e44f6aaea28f');\n",
              "        const dataTable =\n",
              "          await google.colab.kernel.invokeFunction('convertToInteractive',\n",
              "                                                    [key], {});\n",
              "        if (!dataTable) return;\n",
              "\n",
              "        const docLinkHtml = 'Like what you see? Visit the ' +\n",
              "          '<a target=\"_blank\" href=https://colab.research.google.com/notebooks/data_table.ipynb>data table notebook</a>'\n",
              "          + ' to learn more about interactive tables.';\n",
              "        element.innerHTML = '';\n",
              "        dataTable['output_type'] = 'display_data';\n",
              "        await google.colab.output.renderOutput(dataTable, element);\n",
              "        const docLink = document.createElement('div');\n",
              "        docLink.innerHTML = docLinkHtml;\n",
              "        element.appendChild(docLink);\n",
              "      }\n",
              "    </script>\n",
              "  </div>\n",
              "\n",
              "\n",
              "    <div id=\"df-c337eee7-f4d7-4c79-b276-e9b3ee5de2bb\">\n",
              "      <button class=\"colab-df-quickchart\" onclick=\"quickchart('df-c337eee7-f4d7-4c79-b276-e9b3ee5de2bb')\"\n",
              "                title=\"Suggest charts\"\n",
              "                style=\"display:none;\">\n",
              "\n",
              "<svg xmlns=\"http://www.w3.org/2000/svg\" height=\"24px\"viewBox=\"0 0 24 24\"\n",
              "     width=\"24px\">\n",
              "    <g>\n",
              "        <path d=\"M19 3H5c-1.1 0-2 .9-2 2v14c0 1.1.9 2 2 2h14c1.1 0 2-.9 2-2V5c0-1.1-.9-2-2-2zM9 17H7v-7h2v7zm4 0h-2V7h2v10zm4 0h-2v-4h2v4z\"/>\n",
              "    </g>\n",
              "</svg>\n",
              "      </button>\n",
              "\n",
              "<style>\n",
              "  .colab-df-quickchart {\n",
              "      --bg-color: #E8F0FE;\n",
              "      --fill-color: #1967D2;\n",
              "      --hover-bg-color: #E2EBFA;\n",
              "      --hover-fill-color: #174EA6;\n",
              "      --disabled-fill-color: #AAA;\n",
              "      --disabled-bg-color: #DDD;\n",
              "  }\n",
              "\n",
              "  [theme=dark] .colab-df-quickchart {\n",
              "      --bg-color: #3B4455;\n",
              "      --fill-color: #D2E3FC;\n",
              "      --hover-bg-color: #434B5C;\n",
              "      --hover-fill-color: #FFFFFF;\n",
              "      --disabled-bg-color: #3B4455;\n",
              "      --disabled-fill-color: #666;\n",
              "  }\n",
              "\n",
              "  .colab-df-quickchart {\n",
              "    background-color: var(--bg-color);\n",
              "    border: none;\n",
              "    border-radius: 50%;\n",
              "    cursor: pointer;\n",
              "    display: none;\n",
              "    fill: var(--fill-color);\n",
              "    height: 32px;\n",
              "    padding: 0;\n",
              "    width: 32px;\n",
              "  }\n",
              "\n",
              "  .colab-df-quickchart:hover {\n",
              "    background-color: var(--hover-bg-color);\n",
              "    box-shadow: 0 1px 2px rgba(60, 64, 67, 0.3), 0 1px 3px 1px rgba(60, 64, 67, 0.15);\n",
              "    fill: var(--button-hover-fill-color);\n",
              "  }\n",
              "\n",
              "  .colab-df-quickchart-complete:disabled,\n",
              "  .colab-df-quickchart-complete:disabled:hover {\n",
              "    background-color: var(--disabled-bg-color);\n",
              "    fill: var(--disabled-fill-color);\n",
              "    box-shadow: none;\n",
              "  }\n",
              "\n",
              "  .colab-df-spinner {\n",
              "    border: 2px solid var(--fill-color);\n",
              "    border-color: transparent;\n",
              "    border-bottom-color: var(--fill-color);\n",
              "    animation:\n",
              "      spin 1s steps(1) infinite;\n",
              "  }\n",
              "\n",
              "  @keyframes spin {\n",
              "    0% {\n",
              "      border-color: transparent;\n",
              "      border-bottom-color: var(--fill-color);\n",
              "      border-left-color: var(--fill-color);\n",
              "    }\n",
              "    20% {\n",
              "      border-color: transparent;\n",
              "      border-left-color: var(--fill-color);\n",
              "      border-top-color: var(--fill-color);\n",
              "    }\n",
              "    30% {\n",
              "      border-color: transparent;\n",
              "      border-left-color: var(--fill-color);\n",
              "      border-top-color: var(--fill-color);\n",
              "      border-right-color: var(--fill-color);\n",
              "    }\n",
              "    40% {\n",
              "      border-color: transparent;\n",
              "      border-right-color: var(--fill-color);\n",
              "      border-top-color: var(--fill-color);\n",
              "    }\n",
              "    60% {\n",
              "      border-color: transparent;\n",
              "      border-right-color: var(--fill-color);\n",
              "    }\n",
              "    80% {\n",
              "      border-color: transparent;\n",
              "      border-right-color: var(--fill-color);\n",
              "      border-bottom-color: var(--fill-color);\n",
              "    }\n",
              "    90% {\n",
              "      border-color: transparent;\n",
              "      border-bottom-color: var(--fill-color);\n",
              "    }\n",
              "  }\n",
              "</style>\n",
              "\n",
              "      <script>\n",
              "        async function quickchart(key) {\n",
              "          const quickchartButtonEl =\n",
              "            document.querySelector('#' + key + ' button');\n",
              "          quickchartButtonEl.disabled = true;  // To prevent multiple clicks.\n",
              "          quickchartButtonEl.classList.add('colab-df-spinner');\n",
              "          try {\n",
              "            const charts = await google.colab.kernel.invokeFunction(\n",
              "                'suggestCharts', [key], {});\n",
              "          } catch (error) {\n",
              "            console.error('Error during call to suggestCharts:', error);\n",
              "          }\n",
              "          quickchartButtonEl.classList.remove('colab-df-spinner');\n",
              "          quickchartButtonEl.classList.add('colab-df-quickchart-complete');\n",
              "        }\n",
              "        (() => {\n",
              "          let quickchartButtonEl =\n",
              "            document.querySelector('#df-c337eee7-f4d7-4c79-b276-e9b3ee5de2bb button');\n",
              "          quickchartButtonEl.style.display =\n",
              "            google.colab.kernel.accessAllowed ? 'block' : 'none';\n",
              "        })();\n",
              "      </script>\n",
              "    </div>\n",
              "\n",
              "    </div>\n",
              "  </div>\n"
            ],
            "text/plain": [
              "                                        comment_text platform  post_id  \\\n",
              "0  Google and long list of SEO tools. B2B data pl...   reddit  1ivijdi   \n",
              "1                                            chatGPT   reddit  1ivijdi   \n",
              "2  builtwith makes over $14m rev with 1 full-time...   reddit  1ivijdi   \n",
              "3  In general there are a bunch of use cases peop...   reddit  1ivijdi   \n",
              "4  Our SaaS tool scans websites for privacy and a...   reddit  1ivijdi   \n",
              "\n",
              "                                         post_title  \\\n",
              "0  Any product making good money with web-scraping?   \n",
              "1  Any product making good money with web-scraping?   \n",
              "2  Any product making good money with web-scraping?   \n",
              "3  Any product making good money with web-scraping?   \n",
              "4  Any product making good money with web-scraping?   \n",
              "\n",
              "                                            post_url     timestamp  \\\n",
              "0  https://www.reddit.com/r/webscraping/comments/...  1740230309.0   \n",
              "1  https://www.reddit.com/r/webscraping/comments/...  1740230309.0   \n",
              "2  https://www.reddit.com/r/webscraping/comments/...  1740230309.0   \n",
              "3  https://www.reddit.com/r/webscraping/comments/...  1740230309.0   \n",
              "4  https://www.reddit.com/r/webscraping/comments/...  1740230309.0   \n",
              "\n",
              "                                        cleaned_text  word_len  char_len  \n",
              "0  Google and long list of SEO tools. B2B data pl...        13        84  \n",
              "1                                            chatGPT         1         7  \n",
              "2  builtwith makes over $14m rev with 1 full-time...         9        55  \n",
              "3  In general there are a bunch of use cases peop...       194      1109  \n",
              "4  Our SaaS tool scans websites for privacy and a...        14        92  "
            ]
          },
          "execution_count": 18,
          "metadata": {},
          "output_type": "execute_result"
        }
      ],
      "source": [
        "print(f\"Dataset Shape: {df.shape}\")\n",
        "df.head()"
      ]
    },
    {
      "cell_type": "code",
      "execution_count": 19,
      "id": "f8590847",
      "metadata": {
        "colab": {
          "base_uri": "https://localhost:8080/"
        },
        "id": "f8590847",
        "outputId": "dcb77743-64c7-4f47-bb1c-6adf34007bba"
      },
      "outputs": [
        {
          "name": "stdout",
          "output_type": "stream",
          "text": [
            "<class 'pandas.core.frame.DataFrame'>\n",
            "Index: 3539 entries, 0 to 3710\n",
            "Data columns (total 9 columns):\n",
            " #   Column        Non-Null Count  Dtype \n",
            "---  ------        --------------  ----- \n",
            " 0   comment_text  3539 non-null   object\n",
            " 1   platform      3539 non-null   object\n",
            " 2   post_id       3539 non-null   object\n",
            " 3   post_title    3539 non-null   object\n",
            " 4   post_url      3539 non-null   object\n",
            " 5   timestamp     3539 non-null   object\n",
            " 6   cleaned_text  3539 non-null   object\n",
            " 7   word_len      3539 non-null   int64 \n",
            " 8   char_len      3539 non-null   int64 \n",
            "dtypes: int64(2), object(7)\n",
            "memory usage: 276.5+ KB\n",
            "\n",
            "Comment counts by platform:\n",
            "platform\n",
            "youtube          1537\n",
            "reddit            823\n",
            "stackexchange     417\n",
            "facebook          409\n",
            "instagram         353\n",
            "Name: count, dtype: int64\n"
          ]
        }
      ],
      "source": [
        "# Dataset info and platform distribution\n",
        "df.info()\n",
        "\n",
        "platform_counts = df['platform'].value_counts()\n",
        "print(\"\\nComment counts by platform:\")\n",
        "print(platform_counts)"
      ]
    },
    {
      "cell_type": "code",
      "execution_count": 25,
      "id": "bk8IH5f6QD7i",
      "metadata": {
        "colab": {
          "base_uri": "https://localhost:8080/",
          "height": 574
        },
        "id": "bk8IH5f6QD7i",
        "outputId": "d074a87f-179f-44f2-91d1-a9cf75e8ad85"
      },
      "outputs": [
        {
          "name": "stderr",
          "output_type": "stream",
          "text": [
            "<ipython-input-25-fb55a9bd9289>:3: FutureWarning: \n",
            "\n",
            "Passing `palette` without assigning `hue` is deprecated and will be removed in v0.14.0. Assign the `x` variable to `hue` and set `legend=False` for the same effect.\n",
            "\n",
            "  sns.countplot(data=df, x='platform', order=df['platform'].value_counts().index, palette='Purples')\n"
          ]
        },
        {
          "data": {
            "image/png": "[encoded data removed]",
            "text/plain": [
              "<Figure size 800x500 with 1 Axes>"
            ]
          },
          "metadata": {},
          "output_type": "display_data"
        }
      ],
      "source": [
        "# Plotting comment distribution by platform\n",
        "plt.figure(figsize=(8, 5))\n",
        "sns.countplot(data=df, x='platform', order=df['platform'].value_counts().index, palette='Purples')\n",
        "plt.title('Distribution of Comments by Platform')\n",
        "plt.xlabel('Number of Comments')\n",
        "plt.ylabel('Platform')\n",
        "plt.show()"
      ]
    },
    {
      "cell_type": "code",
      "execution_count": 46,
      "id": "yF4zdz7fS1Tf",
      "metadata": {
        "colab": {
          "base_uri": "https://localhost:8080/",
          "height": 368
        },
        "id": "yF4zdz7fS1Tf",
        "outputId": "764b923d-86e6-4f9c-f3d5-b241f0d78ed7"
      },
      "outputs": [
        {
          "name": "stderr",
          "output_type": "stream",
          "text": [
            "<ipython-input-46-d29850380d71>:2: UserWarning: Ignoring `palette` because no `hue` variable has been assigned.\n",
            "  sns.histplot(df['word_len'], bins=50, kde=True, palette='Purples')\n"
          ]
        },
        {
          "data": {
            "image/png": "[encoded data removed]",
            "text/plain": [
              "<Figure size 700x300 with 1 Axes>"
            ]
          },
          "metadata": {},
          "output_type": "display_data"
        }
      ],
      "source": [
        "plt.figure(figsize=(7,3))\n",
        "sns.histplot(df['word_len'], bins=50, kde=True, palette='Purples')\n",
        "plt.title('Distribution of Comment Length (Words)')\n",
        "plt.xlabel('Number of Words')\n",
        "plt.ylabel('Frequency')\n",
        "plt.xlim(0, 2000)\n",
        "plt.show()"
      ]
    },
    {
      "cell_type": "code",
      "execution_count": null,
      "id": "EQ-UkSuETMYu",
      "metadata": {
        "colab": {
          "base_uri": "https://localhost:8080/",
          "height": 651
        },
        "id": "EQ-UkSuETMYu",
        "outputId": "fd8cca07-481a-42cd-a91e-ddf09517dae6"
      },
      "outputs": [
        {
          "name": "stderr",
          "output_type": "stream",
          "text": [
            "<ipython-input-45-aef178b39a15>:4: FutureWarning: \n",
            "\n",
            "Passing `palette` without assigning `hue` is deprecated and will be removed in v0.14.0. Assign the `x` variable to `hue` and set `legend=False` for the same effect.\n",
            "\n",
            "  sns.boxplot(data=df, x='platform', y='word_len', palette='Purples')\n"
          ]
        },
        {
          "data": {
            "image/png": "[encoded data removed]",
            "text/plain": [
              "<Figure size 1000x600 with 1 Axes>"
            ]
          },
          "metadata": {},
          "output_type": "display_data"
        }
      ],
      "source": [
        "#Word Count per Platform boxplot\n",
        "\n",
        "plt.figure(figsize=(7, 3))\n",
        "sns.boxplot(data=df, x='platform', y='word_len', palette='Purples')\n",
        "plt.title('Word Count Distribution per Platform')\n",
        "plt.xlabel('Platform')\n",
        "plt.ylabel('Word Count')\n",
        "plt.ylim(0, 2000) \n",
        "plt.show()"
      ]
    },
    {
      "cell_type": "code",
      "execution_count": 47,
      "id": "39ce08b9",
      "metadata": {
        "colab": {
          "base_uri": "https://localhost:8080/",
          "height": 300
        },
        "id": "39ce08b9",
        "outputId": "77adb7be-18e0-4df7-a237-b1f5e4ead69c"
      },
      "outputs": [
        {
          "data": {
            "application/vnd.google.colaboratory.intrinsic+json": {
              "summary": "{\n  \"name\": \"df[['word_len', 'char_len']]\",\n  \"rows\": 8,\n  \"fields\": [\n    {\n      \"column\": \"word_len\",\n      \"properties\": {\n        \"dtype\": \"number\",\n        \"std\": 1357.232542738447,\n        \"min\": 1.0,\n        \"max\": 3539.0,\n        \"num_unique_values\": 8,\n        \"samples\": [\n          59.29499858717152,\n          17.0,\n          3539.0\n        ],\n        \"semantic_type\": \"\",\n        \"description\": \"\"\n      }\n    },\n    {\n      \"column\": \"char_len\",\n      \"properties\": {\n        \"dtype\": \"number\",\n        \"std\": 3882.685679074225,\n        \"min\": 3.0,\n        \"max\": 11178.0,\n        \"num_unique_values\": 8,\n        \"samples\": [\n          334.40632947160213,\n          90.0,\n          3539.0\n        ],\n        \"semantic_type\": \"\",\n        \"description\": \"\"\n      }\n    }\n  ]\n}",
              "type": "dataframe"
            },
            "text/html": [
              "\n",
              "  <div id=\"df-cca9b0eb-cd4a-4a90-b935-067cd3d69f90\" class=\"colab-df-container\">\n",
              "    <div>\n",
              "<style scoped>\n",
              "    .dataframe tbody tr th:only-of-type {\n",
              "        vertical-align: middle;\n",
              "    }\n",
              "\n",
              "    .dataframe tbody tr th {\n",
              "        vertical-align: top;\n",
              "    }\n",
              "\n",
              "    .dataframe thead th {\n",
              "        text-align: right;\n",
              "    }\n",
              "</style>\n",
              "<table border=\"1\" class=\"dataframe\">\n",
              "  <thead>\n",
              "    <tr style=\"text-align: right;\">\n",
              "      <th></th>\n",
              "      <th>word_len</th>\n",
              "      <th>char_len</th>\n",
              "    </tr>\n",
              "  </thead>\n",
              "  <tbody>\n",
              "    <tr>\n",
              "      <th>count</th>\n",
              "      <td>3539.000000</td>\n",
              "      <td>3539.000000</td>\n",
              "    </tr>\n",
              "    <tr>\n",
              "      <th>mean</th>\n",
              "      <td>59.294999</td>\n",
              "      <td>334.406329</td>\n",
              "    </tr>\n",
              "    <tr>\n",
              "      <th>std</th>\n",
              "      <td>129.626430</td>\n",
              "      <td>728.002626</td>\n",
              "    </tr>\n",
              "    <tr>\n",
              "      <th>min</th>\n",
              "      <td>1.000000</td>\n",
              "      <td>3.000000</td>\n",
              "    </tr>\n",
              "    <tr>\n",
              "      <th>25%</th>\n",
              "      <td>8.000000</td>\n",
              "      <td>43.000000</td>\n",
              "    </tr>\n",
              "    <tr>\n",
              "      <th>50%</th>\n",
              "      <td>17.000000</td>\n",
              "      <td>90.000000</td>\n",
              "    </tr>\n",
              "    <tr>\n",
              "      <th>75%</th>\n",
              "      <td>43.000000</td>\n",
              "      <td>248.500000</td>\n",
              "    </tr>\n",
              "    <tr>\n",
              "      <th>max</th>\n",
              "      <td>2201.000000</td>\n",
              "      <td>11178.000000</td>\n",
              "    </tr>\n",
              "  </tbody>\n",
              "</table>\n",
              "</div>\n",
              "    <div class=\"colab-df-buttons\">\n",
              "\n",
              "  <div class=\"colab-df-container\">\n",
              "    <button class=\"colab-df-convert\" onclick=\"convertToInteractive('df-cca9b0eb-cd4a-4a90-b935-067cd3d69f90')\"\n",
              "            title=\"Convert this dataframe to an interactive table.\"\n",
              "            style=\"display:none;\">\n",
              "\n",
              "  <svg xmlns=\"http://www.w3.org/2000/svg\" height=\"24px\" viewBox=\"0 -960 960 960\">\n",
              "    <path d=\"M120-120v-720h720v720H120Zm60-500h600v-160H180v160Zm220 220h160v-160H400v160Zm0 220h160v-160H400v160ZM180-400h160v-160H180v160Zm440 0h160v-160H620v160ZM180-180h160v-160H180v160Zm440 0h160v-160H620v160Z\"/>\n",
              "  </svg>\n",
              "    </button>\n",
              "\n",
              "  <style>\n",
              "    .colab-df-container {\n",
              "      display:flex;\n",
              "      gap: 12px;\n",
              "    }\n",
              "\n",
              "    .colab-df-convert {\n",
              "      background-color: #E8F0FE;\n",
              "      border: none;\n",
              "      border-radius: 50%;\n",
              "      cursor: pointer;\n",
              "      display: none;\n",
              "      fill: #1967D2;\n",
              "      height: 32px;\n",
              "      padding: 0 0 0 0;\n",
              "      width: 32px;\n",
              "    }\n",
              "\n",
              "    .colab-df-convert:hover {\n",
              "      background-color: #E2EBFA;\n",
              "      box-shadow: 0px 1px 2px rgba(60, 64, 67, 0.3), 0px 1px 3px 1px rgba(60, 64, 67, 0.15);\n",
              "      fill: #174EA6;\n",
              "    }\n",
              "\n",
              "    .colab-df-buttons div {\n",
              "      margin-bottom: 4px;\n",
              "    }\n",
              "\n",
              "    [theme=dark] .colab-df-convert {\n",
              "      background-color: #3B4455;\n",
              "      fill: #D2E3FC;\n",
              "    }\n",
              "\n",
              "    [theme=dark] .colab-df-convert:hover {\n",
              "      background-color: #434B5C;\n",
              "      box-shadow: 0px 1px 3px 1px rgba(0, 0, 0, 0.15);\n",
              "      filter: drop-shadow(0px 1px 2px rgba(0, 0, 0, 0.3));\n",
              "      fill: #FFFFFF;\n",
              "    }\n",
              "  </style>\n",
              "\n",
              "    <script>\n",
              "      const buttonEl =\n",
              "        document.querySelector('#df-cca9b0eb-cd4a-4a90-b935-067cd3d69f90 button.colab-df-convert');\n",
              "      buttonEl.style.display =\n",
              "        google.colab.kernel.accessAllowed ? 'block' : 'none';\n",
              "\n",
              "      async function convertToInteractive(key) {\n",
              "        const element = document.querySelector('#df-cca9b0eb-cd4a-4a90-b935-067cd3d69f90');\n",
              "        const dataTable =\n",
              "          await google.colab.kernel.invokeFunction('convertToInteractive',\n",
              "                                                    [key], {});\n",
              "        if (!dataTable) return;\n",
              "\n",
              "        const docLinkHtml = 'Like what you see? Visit the ' +\n",
              "          '<a target=\"_blank\" href=https://colab.research.google.com/notebooks/data_table.ipynb>data table notebook</a>'\n",
              "          + ' to learn more about interactive tables.';\n",
              "        element.innerHTML = '';\n",
              "        dataTable['output_type'] = 'display_data';\n",
              "        await google.colab.output.renderOutput(dataTable, element);\n",
              "        const docLink = document.createElement('div');\n",
              "        docLink.innerHTML = docLinkHtml;\n",
              "        element.appendChild(docLink);\n",
              "      }\n",
              "    </script>\n",
              "  </div>\n",
              "\n",
              "\n",
              "    <div id=\"df-20a6243e-7a3b-4f99-9ec2-377ec7558164\">\n",
              "      <button class=\"colab-df-quickchart\" onclick=\"quickchart('df-20a6243e-7a3b-4f99-9ec2-377ec7558164')\"\n",
              "                title=\"Suggest charts\"\n",
              "                style=\"display:none;\">\n",
              "\n",
              "<svg xmlns=\"http://www.w3.org/2000/svg\" height=\"24px\"viewBox=\"0 0 24 24\"\n",
              "     width=\"24px\">\n",
              "    <g>\n",
              "        <path d=\"M19 3H5c-1.1 0-2 .9-2 2v14c0 1.1.9 2 2 2h14c1.1 0 2-.9 2-2V5c0-1.1-.9-2-2-2zM9 17H7v-7h2v7zm4 0h-2V7h2v10zm4 0h-2v-4h2v4z\"/>\n",
              "    </g>\n",
              "</svg>\n",
              "      </button>\n",
              "\n",
              "<style>\n",
              "  .colab-df-quickchart {\n",
              "      --bg-color: #E8F0FE;\n",
              "      --fill-color: #1967D2;\n",
              "      --hover-bg-color: #E2EBFA;\n",
              "      --hover-fill-color: #174EA6;\n",
              "      --disabled-fill-color: #AAA;\n",
              "      --disabled-bg-color: #DDD;\n",
              "  }\n",
              "\n",
              "  [theme=dark] .colab-df-quickchart {\n",
              "      --bg-color: #3B4455;\n",
              "      --fill-color: #D2E3FC;\n",
              "      --hover-bg-color: #434B5C;\n",
              "      --hover-fill-color: #FFFFFF;\n",
              "      --disabled-bg-color: #3B4455;\n",
              "      --disabled-fill-color: #666;\n",
              "  }\n",
              "\n",
              "  .colab-df-quickchart {\n",
              "    background-color: var(--bg-color);\n",
              "    border: none;\n",
              "    border-radius: 50%;\n",
              "    cursor: pointer;\n",
              "    display: none;\n",
              "    fill: var(--fill-color);\n",
              "    height: 32px;\n",
              "    padding: 0;\n",
              "    width: 32px;\n",
              "  }\n",
              "\n",
              "  .colab-df-quickchart:hover {\n",
              "    background-color: var(--hover-bg-color);\n",
              "    box-shadow: 0 1px 2px rgba(60, 64, 67, 0.3), 0 1px 3px 1px rgba(60, 64, 67, 0.15);\n",
              "    fill: var(--button-hover-fill-color);\n",
              "  }\n",
              "\n",
              "  .colab-df-quickchart-complete:disabled,\n",
              "  .colab-df-quickchart-complete:disabled:hover {\n",
              "    background-color: var(--disabled-bg-color);\n",
              "    fill: var(--disabled-fill-color);\n",
              "    box-shadow: none;\n",
              "  }\n",
              "\n",
              "  .colab-df-spinner {\n",
              "    border: 2px solid var(--fill-color);\n",
              "    border-color: transparent;\n",
              "    border-bottom-color: var(--fill-color);\n",
              "    animation:\n",
              "      spin 1s steps(1) infinite;\n",
              "  }\n",
              "\n",
              "  @keyframes spin {\n",
              "    0% {\n",
              "      border-color: transparent;\n",
              "      border-bottom-color: var(--fill-color);\n",
              "      border-left-color: var(--fill-color);\n",
              "    }\n",
              "    20% {\n",
              "      border-color: transparent;\n",
              "      border-left-color: var(--fill-color);\n",
              "      border-top-color: var(--fill-color);\n",
              "    }\n",
              "    30% {\n",
              "      border-color: transparent;\n",
              "      border-left-color: var(--fill-color);\n",
              "      border-top-color: var(--fill-color);\n",
              "      border-right-color: var(--fill-color);\n",
              "    }\n",
              "    40% {\n",
              "      border-color: transparent;\n",
              "      border-right-color: var(--fill-color);\n",
              "      border-top-color: var(--fill-color);\n",
              "    }\n",
              "    60% {\n",
              "      border-color: transparent;\n",
              "      border-right-color: var(--fill-color);\n",
              "    }\n",
              "    80% {\n",
              "      border-color: transparent;\n",
              "      border-right-color: var(--fill-color);\n",
              "      border-bottom-color: var(--fill-color);\n",
              "    }\n",
              "    90% {\n",
              "      border-color: transparent;\n",
              "      border-bottom-color: var(--fill-color);\n",
              "    }\n",
              "  }\n",
              "</style>\n",
              "\n",
              "      <script>\n",
              "        async function quickchart(key) {\n",
              "          const quickchartButtonEl =\n",
              "            document.querySelector('#' + key + ' button');\n",
              "          quickchartButtonEl.disabled = true;  // To prevent multiple clicks.\n",
              "          quickchartButtonEl.classList.add('colab-df-spinner');\n",
              "          try {\n",
              "            const charts = await google.colab.kernel.invokeFunction(\n",
              "                'suggestCharts', [key], {});\n",
              "          } catch (error) {\n",
              "            console.error('Error during call to suggestCharts:', error);\n",
              "          }\n",
              "          quickchartButtonEl.classList.remove('colab-df-spinner');\n",
              "          quickchartButtonEl.classList.add('colab-df-quickchart-complete');\n",
              "        }\n",
              "        (() => {\n",
              "          let quickchartButtonEl =\n",
              "            document.querySelector('#df-20a6243e-7a3b-4f99-9ec2-377ec7558164 button');\n",
              "          quickchartButtonEl.style.display =\n",
              "            google.colab.kernel.accessAllowed ? 'block' : 'none';\n",
              "        })();\n",
              "      </script>\n",
              "    </div>\n",
              "\n",
              "    </div>\n",
              "  </div>\n"
            ],
            "text/plain": [
              "          word_len      char_len\n",
              "count  3539.000000   3539.000000\n",
              "mean     59.294999    334.406329\n",
              "std     129.626430    728.002626\n",
              "min       1.000000      3.000000\n",
              "25%       8.000000     43.000000\n",
              "50%      17.000000     90.000000\n",
              "75%      43.000000    248.500000\n",
              "max    2201.000000  11178.000000"
            ]
          },
          "execution_count": 47,
          "metadata": {},
          "output_type": "execute_result"
        }
      ],
      "source": [
        "# Summary statistics for word and character lengths\n",
        "df[['word_len', 'char_len']].describe()"
      ]
    }
  ],
  "metadata": {
    "colab": {
      "provenance": []
    },
    "kernelspec": {
      "display_name": "Python 3",
      "name": "python3"
    },
    "language_info": {
      "name": "python"
    }
  },
  "nbformat": 4,
  "nbformat_minor": 5
}
